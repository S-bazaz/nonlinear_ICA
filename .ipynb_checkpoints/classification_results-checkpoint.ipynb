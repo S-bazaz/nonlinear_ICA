{
 "cells": [
  {
   "cell_type": "markdown",
   "id": "360e4005-f483-474f-91ae-6c6647c62394",
   "metadata": {},
   "source": [
    "# Visualization of training and results"
   ]
  },
  {
   "cell_type": "code",
   "execution_count": 70,
   "id": "d3fd1730-31b9-4ed1-9852-6cb1ab467735",
   "metadata": {},
   "outputs": [
    {
     "name": "stdout",
     "output_type": "stream",
     "text": [
      "C:\\Users\\samud\\Bureau\\Python code\\MVA\\Advanced ML\\nonlinear_ICA\n"
     ]
    }
   ],
   "source": [
    "############\n",
    "# Packages #\n",
    "############\n",
    "import os\n",
    "import sys\n",
    "import numpy as np\n",
    "import pickle\n",
    "from pathlib import Path\n",
    "import plotly.io as pio\n",
    "from prettytable import PrettyTable\n",
    "import itertools\n",
    "\n",
    "##################\n",
    "#      Imports   #\n",
    "##################\n",
    "root_path = Path(os.getcwd())\n",
    "# root_path should end by \\nonlinear_ICA:\n",
    "print(root_path)\n",
    "sys.path.insert(0, str(root_path))\n",
    "pio.renderers.default = \"plotly_mimetype+notebook\"\n",
    "\n",
    "##############\n",
    "#    Paths   #\n",
    "##############\n",
    "get_trainpath = lambda i: root_path.joinpath(\"models\", \"TCL\", f\"TCL_{i}\")\n",
    "get_respath = lambda i,j: root_path.joinpath(\"models\", \"classif\", f\"classif_{j}\", \"dataset_1\", f\"TCL_{i}\", \"NORM\")\n",
    "\n",
    "################\n",
    "#   runs ids   #\n",
    "################\n",
    "\n",
    "TCL_ids = [1,2,3]\n",
    "classif_ids = {\n",
    "    1:[1], \n",
    "    2:[], \n",
    "    3:[]\n",
    "}\n",
    "\n",
    "#############\n",
    "#    Load   #\n",
    "#############\n",
    "load_pkl = lambda path, name: pickle.load(open(str(path.joinpath(f\"{name}.pkl\")), 'rb'))\n",
    "\n",
    "#############\n",
    "#    Plot   #\n",
    "#############\n",
    "\n",
    "init_tab = lambda dct, lst: PrettyTable(list(dct.keys())+lst)\n",
    "init_tab2 = lambda lst_dct: PrettyTable(  [\"TCL\",\"cl\"]+list(itertools.chain.from_iterable([list(dct.keys()) for dct in lst_dct]))   )\n",
    "list_val = lambda dct: list(dct.values())\n",
    "list_valround = lambda dct: np.round(list(dct.values()),3).squeeze().tolist()\n",
    "\n"
   ]
  },
  {
   "cell_type": "markdown",
   "id": "db00fdc8-2256-4d6a-a338-826e1a533982",
   "metadata": {},
   "source": [
    "The following script gather results into tables. Please use an LLM to convert it into latex format."
   ]
  },
  {
   "cell_type": "markdown",
   "id": "bc53dc92-baae-456f-8092-8a43240ed05e",
   "metadata": {},
   "source": [
    "## Training"
   ]
  },
  {
   "cell_type": "code",
   "execution_count": 68,
   "id": "29d1a16c-b34c-44fd-8aff-841da1da6cc3",
   "metadata": {},
   "outputs": [
    {
     "name": "stdout",
     "output_type": "stream",
     "text": [
      "+------------+---------------+------------+-----------+-----------+-------+----------+-------+\n",
      "| num_layers | hidden_layers | activation | input_dim | pool_size | slope | accuracy |   f1  |\n",
      "+------------+---------------+------------+-----------+-----------+-------+----------+-------+\n",
      "|     1      |      [1]      | ['lrelu']  |     12    |     1     |  0.1  |  2.452   | 2.448 |\n",
      "|     1      |      [3]      | ['lrelu']  |     12    |     1     |  0.1  |  2.359   | 2.357 |\n",
      "|     1      |      [5]      | ['lrelu']  |     12    |     1     |  0.1  |  2.351   | 2.343 |\n",
      "+------------+---------------+------------+-----------+-----------+-------+----------+-------+\n"
     ]
    }
   ],
   "source": [
    "start = True\n",
    "for i in TCL_ids:\n",
    "    params = load_pkl(get_trainpath(i),\"params\")\n",
    "    train_loss =  load_pkl(get_trainpath(i),\"model_loss\")\n",
    "    if start:\n",
    "        tab = init_tab(params, [\"accuracy\", \"f1\"])\n",
    "        start = False\n",
    "    tab.add_row(list_val(params)+list(np.round(train_loss,3)))\n",
    "\n",
    "print(tab)"
   ]
  },
  {
   "cell_type": "markdown",
   "id": "3ab9367e-5bf8-46bb-9747-fd021cd7fe34",
   "metadata": {},
   "source": [
    "## Results"
   ]
  },
  {
   "cell_type": "code",
   "execution_count": 71,
   "id": "c4cf41d4-57e9-419a-b876-08feb349fdfe",
   "metadata": {},
   "outputs": [
    {
     "name": "stdout",
     "output_type": "stream",
     "text": [
      "\n",
      "TRAIN \n",
      " +-----+----+--------+------------+-------------+----------+----------+--------+-----------+---------+\n",
      "| TCL | cl | svm__C | svm__gamma | svm__kernel | accuracy | f1_score | recall | precision | roc_auc |\n",
      "+-----+----+--------+------------+-------------+----------+----------+--------+-----------+---------+\n",
      "|  1  | 1  |  0.1   |   scale    |    linear   |  0.628   |  0.604   | 0.651  |   0.564   |  0.676  |\n",
      "+-----+----+--------+------------+-------------+----------+----------+--------+-----------+---------+\n",
      "\n",
      "TEST \n",
      " +-----+----+--------+------------+-------------+----------+----------+--------+-----------+---------+\n",
      "| TCL | cl | svm__C | svm__gamma | svm__kernel | accuracy | f1_score | recall | precision | roc_auc |\n",
      "+-----+----+--------+------------+-------------+----------+----------+--------+-----------+---------+\n",
      "|  1  | 1  |  0.1   |   scale    |    linear   |  0.597   |  0.567   | 0.604  |   0.535   |  0.643  |\n",
      "+-----+----+--------+------------+-------------+----------+----------+--------+-----------+---------+\n",
      "\n",
      "SVM_STAT \n",
      " +-----+----+---------------+--------------+-----------------+----------------+-------------------+-----------------+----------------+-----------------+\n",
      "| TCL | cl | mean_fit_time | std_fit_time | mean_score_time | std_score_time | split0_test_score | mean_test_score | std_test_score | rank_test_score |\n",
      "+-----+----+---------------+--------------+-----------------+----------------+-------------------+-----------------+----------------+-----------------+\n",
      "|  1  | 1  |    580.779    |     0.0      |      4.674      |      0.0       |       0.601       |      0.601      |      0.0       |       1.0       |\n",
      "+-----+----+---------------+--------------+-----------------+----------------+-------------------+-----------------+----------------+-----------------+\n"
     ]
    }
   ],
   "source": [
    "start = True\n",
    "for i in TCL_ids:\n",
    "    for j in classif_ids[i]:\n",
    "        best_params = load_pkl(get_respath(i,j),\"best_params\")\n",
    "        res_best_model =  load_pkl(get_respath(i,j),\"res_best_model\")\n",
    "                \n",
    "        results_gs_SVM = load_pkl(get_respath(i,j),\"results_gs_SVM\")\n",
    "        del results_gs_SVM[\"param_svm__C\"]\n",
    "        del results_gs_SVM[\"param_svm__gamma\"]\n",
    "        del results_gs_SVM[\"param_svm__kernel\"]\n",
    "        del results_gs_SVM[\"params\"] #doublons\n",
    "        if start:\n",
    "            tab_train = init_tab2([best_params, res_best_model[\"train\"]])\n",
    "            tab_test = init_tab2([best_params, res_best_model[\"test\"]])\n",
    "            tab_svm = init_tab2([results_gs_SVM])\n",
    "            strat = False\n",
    "        tab_train.add_row([i,j] + list_val(best_params)+ list_valround(res_best_model[\"train\"]))\n",
    "        tab_test.add_row([i,j] + list_val(best_params)+ list_valround(res_best_model[\"test\"]))\n",
    "        tab_svm.add_row([i,j] + list_valround(results_gs_SVM))\n",
    "\n",
    "print(\"\\nTRAIN \\n\",tab_train)\n",
    "print(\"\\nTEST \\n\",tab_test)\n",
    "print(\"\\nSVM_STAT \\n\",tab_svm)"
   ]
  }
 ],
 "metadata": {
  "kernelspec": {
   "display_name": "Python 3 (ipykernel)",
   "language": "python",
   "name": "python3"
  },
  "language_info": {
   "codemirror_mode": {
    "name": "ipython",
    "version": 3
   },
   "file_extension": ".py",
   "mimetype": "text/x-python",
   "name": "python",
   "nbconvert_exporter": "python",
   "pygments_lexer": "ipython3",
   "version": "3.9.18"
  }
 },
 "nbformat": 4,
 "nbformat_minor": 5
}
