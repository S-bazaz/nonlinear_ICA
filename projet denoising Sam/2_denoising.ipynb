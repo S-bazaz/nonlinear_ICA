{
 "cells": [
  {
   "cell_type": "markdown",
   "id": "129344b1-478e-4294-b844-03a16abf2ed8",
   "metadata": {},
   "source": [
    "## Denoising"
   ]
  },
  {
   "cell_type": "code",
   "execution_count": null,
   "id": "66637744-f378-4713-8785-3c91b71ff95a",
   "metadata": {},
   "outputs": [],
   "source": [
    "############\n",
    "# Packages #\n",
    "############\n",
    "import os\n",
    "import sys\n",
    "import pickle\n",
    "import numpy as np\n",
    "from pathlib import Path\n",
    "\n",
    "import plotly.express as px\n",
    "import plotly.graph_objects as go\n",
    "import plotly.io as pio\n",
    "import seaborn as sns\n",
    "import matplotlib.pyplot as plt\n",
    "\n",
    "import pywt\n",
    "from scipy.signal import periodogram, fftconvolve, cwt\n",
    "\n",
    "from typing import Dict, Union, List, Tuple, Any, Callable, Optional\n",
    "pio.renderers.default = \"plotly_mimetype+notebook\"\n",
    "################\n",
    "#    Imports   #\n",
    "################\n",
    "\n",
    "root_path = Path(os.getcwd())\n",
    "saving_path = root_path.joinpath(\"outputs\")\n",
    "# root_path should end by \\nonlinear_ICA:\n",
    "print(root_path)\n",
    "sys.path.insert(0, str(root_path))\n",
    "\n",
    "from src.data import (\n",
    "    load_ecg_from_clean_data,\n",
    "    get_npatients_by_diag,\n",
    "    get_diag\n",
    ")\n",
    "\n",
    "from src.plot import (\n",
    "    plot_all_st,\n",
    "    plot_signal,\n",
    "    my_pal,\n",
    "    add_fig,\n",
    "    plot_estim,\n",
    "    plot_scalogram,\n",
    "    plot_scalogram_freq\n",
    ")"
   ]
  },
  {
   "cell_type": "code",
   "execution_count": null,
   "id": "0465f633-596e-4561-952a-538bacf055d7",
   "metadata": {},
   "outputs": [],
   "source": [
    "################################\n",
    "#  clean meta data  Loading    #\n",
    "################################\n",
    "# with open(str(saving_path.joinpath(\"clean_data.pkl\")), \"rb\") as f:\n",
    "#     df = pickle.load(f)\n",
    "\n",
    "with open(str(saving_path.joinpath(\"signals0.pkl\")), \"rb\") as f:\n",
    "    signals0 = pickle.load(f)\n",
    "\n",
    "with open(str(saving_path.joinpath(\"meta_data.pkl\")), \"rb\") as f:\n",
    "    df_sub = pickle.load(f)"
   ]
  },
  {
   "cell_type": "code",
   "execution_count": null,
   "id": "4efe7129-8d60-4f83-b3aa-25c733b1ae47",
   "metadata": {},
   "outputs": [],
   "source": [
    "signal = signals0[0]"
   ]
  },
  {
   "cell_type": "code",
   "execution_count": null,
   "id": "12fe611d-f002-4b5a-9bfc-cb28df12f2ce",
   "metadata": {},
   "outputs": [],
   "source": [
    "plot_signal(signal)"
   ]
  },
  {
   "cell_type": "markdown",
   "id": "ee4b461d-c68f-4c58-823c-b0c1bca669aa",
   "metadata": {},
   "source": [
    "on a des dupliqués car un patient peut avoir plusieurs mesures."
   ]
  },
  {
   "cell_type": "code",
   "execution_count": null,
   "id": "b9590fd1-f16e-4959-afdf-3f0a3f3b81a2",
   "metadata": {},
   "outputs": [],
   "source": [
    "scales = np.arange(1, 1024, 8)\n",
    "#scales = 2**np.arange(0, 5)"
   ]
  },
  {
   "cell_type": "code",
   "execution_count": null,
   "id": "fe4553f7-4072-4058-8c74-485f7ce6906d",
   "metadata": {},
   "outputs": [],
   "source": [
    "plot_scalogram(signal, scales, waveletname = 'cmor', title = f\"Scalogram of original signal\", levels = np.linspace(1e-1, 3, 40))"
   ]
  },
  {
   "cell_type": "code",
   "execution_count": null,
   "id": "39419c02-ee7a-409b-8e85-be6869932348",
   "metadata": {},
   "outputs": [],
   "source": [
    "plot_scalogram(signal, scales, waveletname = 'cmor', title = f\"Scalogram of original signal\", levels = np.linspace(1e-1, 3, 40))"
   ]
  },
  {
   "cell_type": "code",
   "execution_count": null,
   "id": "0a7d477e-9520-4efd-bf13-72b18e59630a",
   "metadata": {},
   "outputs": [],
   "source": [
    "plot_scalogram_freq(signal, scales, waveletname = 'cmor', title = f\"Scalogram of original signal\", levels = np.linspace(1e-1, 3, 40))"
   ]
  },
  {
   "cell_type": "markdown",
   "id": "17d085fb-9f3d-4508-96fd-7f74ee12dcfa",
   "metadata": {},
   "source": [
    "### Low pass filter"
   ]
  },
  {
   "cell_type": "code",
   "execution_count": null,
   "id": "80872c77-b2a7-42d3-aa78-e5040b611b39",
   "metadata": {},
   "outputs": [],
   "source": [
    "def calculate_psnr(signal, newsignal):\n",
    "    \"\"\"\"Calculating peak signal-to-noise ratio (PSNR) between two signals.\"\"\"\n",
    "    mse = np.mean((signal - newsignal) ** 2)\n",
    "    if mse == 0:\n",
    "        return 100\n",
    "    return 20 * np.log10(max(signal) / (np.sqrt(mse)))\n",
    "\n",
    "def compression_ratio(signal, coeffs):\n",
    "    sig_size = signal.shape[0]\n",
    "    wavelet_size = 0\n",
    "    for coeff in coeffs:\n",
    "        wavelet_size += np.sum(coeff!=0)\n",
    "    return sig_size/wavelet_size\n",
    "\n",
    "def round(arg):\n",
    "    if isinstance(arg, str):\n",
    "        return arg\n",
    "    return np.round(arg,1)"
   ]
  },
  {
   "cell_type": "code",
   "execution_count": null,
   "id": "c4d1f7e3-dfcf-4558-aa55-806d50ab5ed2",
   "metadata": {},
   "outputs": [],
   "source": [
    "def my_threshold(coeff, arg0, arg1):\n",
    "    return pywt.threshold(coeff, value=arg0, mode=arg1 )"
   ]
  },
  {
   "cell_type": "code",
   "execution_count": null,
   "id": "05e742bd-38e7-4319-bf16-7a8fc939326a",
   "metadata": {},
   "outputs": [],
   "source": [
    "def denoise_and_metrics(sign, wavelet, args_filter, f_filter = my_threshold, fig = None, color = None ):\n",
    "    #decomposition\n",
    "    coeffs = pywt.wavedec(sign, wavelet, mode=\"per\")\n",
    "    #filtration\n",
    "    coeffs[1:] = (f_filter(coeff, *args_filter) for coeff in coeffs[1:])\n",
    "    #reconstruction\n",
    "    new_signal = pywt.waverec(coeffs, wavelet, mode=\"per\" )\n",
    "    #metrics\n",
    "    pnsr = calculate_psnr(new_signal, sign)\n",
    "    cratio = compression_ratio(sign, coeffs)\n",
    "    args_filter_round = tuple((round(argf) for argf in args_filter))\n",
    "    if fig:\n",
    "        add_fig(fig, new_signal, color ,f\"{wavename} {args_filter_round} | {round(pnsr)} {round(cratio)}\")\n",
    "    return pnsr, cratio"
   ]
  },
  {
   "cell_type": "code",
   "execution_count": null,
   "id": "3c7e6754-355f-46bc-8c83-376105ae3cdd",
   "metadata": {},
   "outputs": [],
   "source": [
    "from itertools import product"
   ]
  },
  {
   "cell_type": "code",
   "execution_count": null,
   "id": "d0a26353-5998-45a7-b24b-d486b3d5e3a6",
   "metadata": {},
   "outputs": [],
   "source": [
    "def plot_wave_rec(lst_args, title = f\"Low pass\", f_filter = my_threshold):\n",
    "    pal = my_pal(len(list(lst_args)))\n",
    "    fig = go.Figure(\n",
    "        layout=go.Layout(\n",
    "            height=600, \n",
    "            width=800, \n",
    "            template = \"plotly_dark\", \n",
    "            title = title\n",
    "    ))\n",
    "    k = 0\n",
    "    for k, wave_args in enumerate(lst_args):\n",
    "        wavename = wave_args[0]\n",
    "        args = wave_args[1:]\n",
    "        denoise_and_metrics(signal, wavename, args, my_threshold, fig = fig, color = pal[k]) \n",
    "    fig.show()"
   ]
  },
  {
   "cell_type": "code",
   "execution_count": null,
   "id": "22bb4e65-4408-467b-b1eb-090aceb87073",
   "metadata": {},
   "outputs": [],
   "source": [
    "lst_args = list(product(\n",
    "    [\"db4\", \"db6\",\"coif2\",\"coif3\", \"sym4\"],\n",
    "    np.linspace(0.3, 0.5, 2),\n",
    "    [\"soft\", \"hard\"]\n",
    "))\n",
    "plot_wave_rec(lst_args, title = f\"<b>Low pass</b> <br> threshold mode | pnsr compression-ratio\", f_filter = my_threshold)"
   ]
  },
  {
   "cell_type": "markdown",
   "id": "261576e5-84a2-4127-9c85-bf7c0f593153",
   "metadata": {},
   "source": [
    "On peut utiliser un seuil sur les valeurs de la représentation en ondelette pour éliminer le bruit.\n",
    "la "
   ]
  },
  {
   "cell_type": "code",
   "execution_count": null,
   "id": "9a77ebe2-b719-45d9-bb7b-e2817522e1e5",
   "metadata": {},
   "outputs": [],
   "source": [
    "def lowpassfilter(signal, thresh = 0.63, wavelet=\"db4\", mode = \"soft\"):\n",
    "    thresh = thresh*np.nanmax(signal)\n",
    "    coeffs = pywt.wavedec(signal, wavelet, mode=\"per\" )\n",
    "    coeffs[1:] = (pywt.threshold(coeff, value=thresh, mode=mode ) for coeff in coeffs[1:]) # modification de la représentation\n",
    "    new_signal = pywt.waverec(coeffs, wavelet, mode=\"per\" )\n",
    "    return new_signal"
   ]
  },
  {
   "cell_type": "code",
   "execution_count": null,
   "id": "2dec568b-cd58-4597-8d38-f421c0eb66e5",
   "metadata": {},
   "outputs": [],
   "source": [
    "fig = go.Figure(\n",
    "        layout=go.Layout(\n",
    "            height=600, \n",
    "            width=800, \n",
    "            template = \"plotly_dark\", \n",
    "            title = f\"Low pass using Daubechy\"\n",
    "    ))\n",
    "\n",
    "pal = my_pal(20)\n",
    "\n",
    "k = 0\n",
    "for wavename in [\"db4\", \"db6\",\"coif2\",\"coif3\", \"sym4\"]:\n",
    "    for thresh in np.linspace(0.3, 0.5, 2):\n",
    "        for mode in [\"soft\", \"hard\"]: \n",
    "            denoise_and_metrics(signal, wavename, (thresh, mode), my_threshold, fig = fig, color = pal[k])\n",
    "            k+=1\n",
    "fig.show()"
   ]
  },
  {
   "cell_type": "code",
   "execution_count": null,
   "id": "1e04dec6-8cc9-4856-ac94-f572a50d6bf2",
   "metadata": {},
   "outputs": [],
   "source": [
    "def iter_filter(signals, thresh, wavename, mode):\n",
    "    new_signals = np.zeros_like(signals)\n",
    "    for i,sign in enumerate(signals):\n",
    "        new_signals[i,:] = lowpassfilter(sign, thresh = thresh, wavelet=wavename, mode = mode)\n",
    "    return new_signals"
   ]
  },
  {
   "cell_type": "code",
   "execution_count": null,
   "id": "662707c0-6fef-4eb0-9550-d58ef0cb486c",
   "metadata": {},
   "outputs": [],
   "source": [
    "plot_all_st(signals0)\n",
    "plot_all_st(iter_filter(signals0, 0.3, \"coif2\", \"soft\"))"
   ]
  },
  {
   "cell_type": "markdown",
   "id": "033eed2a-41cf-4493-a7bd-12e692070cea",
   "metadata": {},
   "source": [
    "la regularité de l'ondelette se retrouve dans le signal filtré"
   ]
  },
  {
   "cell_type": "markdown",
   "id": "77733f68-4125-43ec-8eae-f2ccc65ac203",
   "metadata": {},
   "source": [
    "## Debruitage par méthode proximale"
   ]
  },
  {
   "cell_type": "code",
   "execution_count": null,
   "id": "d2ca9b2e-fc1c-49f4-be32-c92410a67fc6",
   "metadata": {},
   "outputs": [],
   "source": [
    "def power_proximal(q, χ, ξ):\n",
    "    \"\"\"\n",
    "    Compute the proximal of the power q function\n",
    "    scaled to χ at point ξ\n",
    "    \n",
    "    Parameters\n",
    "    ----------\n",
    "    q : float\n",
    "        Exponent in the power function\n",
    "        Available: q = {1, 4/3, 3/2, 2, 3, 4}\n",
    "        \n",
    "    χ : float\n",
    "        Regularization parameter\n",
    "        \n",
    "    ξ : float\n",
    "        Point at which to compute the proximal operator\n",
    "    \n",
    "    Returns\n",
    "    ---------\n",
    "    prox : numpy.array\n",
    "        Value of the proximal of the q power function\n",
    "        at point ξ\n",
    "    \n",
    "    \"\"\"\n",
    "    Q_VALUES = [1.0, 4/3, 3/2, 2., 3., 4.]\n",
    "    \n",
    "    if q not in Q_VALUES:\n",
    "        raise ValueError(f\"q ({q}) does not belong in the expected \"\n",
    "                         f\"values: {Q_VALUES}\")\n",
    "        \n",
    "    prox = None\n",
    "    \n",
    "    if q == 1.0:\n",
    "        prox = np.sign(ξ) * np.maximum(np.abs(ξ) - χ, 0)\n",
    "    elif q == 4/3:\n",
    "        ϵ = np.sqrt(ξ**2 + 256 / 729 * χ ** 3)\n",
    "        prox = ξ + 4 * χ / (3 * 2 ** (1/3)) * ((ϵ - ξ) ** (1/3) - (ϵ + ξ) ** (1/3))\n",
    "    elif q == 3/2:\n",
    "        prox = ξ + 9 * χ ** 2 * np.sign(ξ) / 8 * (1 - np.sqrt(1 + 16 * np.abs(ξ) / (9 * χ ** 2)))\n",
    "    elif q == 2:\n",
    "        prox = ξ / (1 + 2 * χ)                    \n",
    "    elif q == 3.:\n",
    "        prox = np.sign(ξ) * (np.sqrt(1 + 12 * χ * np.abs(ξ)) - 1) / (6 * χ)\n",
    "    elif q == 4.:\n",
    "        ϵ = np.sqrt(ξ ** 2 + 1 / (27 * χ))\n",
    "        prox = ((ϵ + ξ) / (8 * χ)) ** (1/3) - ((ϵ - ξ) / (8 * χ)) ** (1/3)\n",
    "        \n",
    "    return prox"
   ]
  },
  {
   "cell_type": "code",
   "execution_count": null,
   "id": "6516f748-581e-4021-a0ae-47b2c6e2eb7a",
   "metadata": {},
   "outputs": [],
   "source": [
    "def get_prox_denoise(signal, wavelet=\"db4\", reg_power = 1, reg_cst = 10):\n",
    "    coeffs = pywt.wavedec(signal, wavelet, mode=\"per\" )\n",
    "    coeffs[1:] = ( q_power_proximal(reg_power, reg_cst, coeff) for coeff in coeffs[1:]) # modification de la représentation\n",
    "    new_signal = pywt.waverec(coeffs, wavelet, mode=\"per\" )\n",
    "    return new_signal"
   ]
  },
  {
   "cell_type": "code",
   "execution_count": null,
   "id": "24223594-9e8f-40c5-81bb-c66341363180",
   "metadata": {},
   "outputs": [],
   "source": [
    "fig = go.Figure(\n",
    "        layout=go.Layout(\n",
    "            height=600, \n",
    "            width=800, \n",
    "            template = \"plotly_dark\", \n",
    "            title = f\"Power proximal using Daubechy\"\n",
    "    ))\n",
    "\n",
    "pal = my_pal(32)\n",
    "\n",
    "k = 0\n",
    "for wavename in [\"coif3\", \"coif4\", \"sym4\", \"sym3\"]:\n",
    "    for reg_power in [1.0, 4/3]:\n",
    "        for reg_cst in np.linspace(5e-1, 8e-1, 4):\n",
    "            new_sign = get_prox_denoise(signal, wavelet=wavename, reg_power = reg_power, reg_cst = reg_cst)\n",
    "            add_fig(fig, new_sign, pal[k] ,f\"{wavename} q={np.round(reg_power,2)} beta={np.round(reg_cst,2)} | \")\n",
    "            #plot_scalogram(new_sign, scales, waveletname = 'cmor', title = f\"{wavename} power {np.round(reg_power,2)} reg_cst = {np.round(reg_cst,2)}\")\n",
    "            #plot_scalogram_freq(new_sign, scales, waveletname = 'cmor', title = f\"{wavename} power {np.round(reg_power,2)} reg_cst = {np.round(reg_cst,2)}\")\n",
    "            k+=1\n",
    "fig.show()"
   ]
  },
  {
   "cell_type": "code",
   "execution_count": null,
   "id": "611bc75a-b2e9-453e-a855-27774fa1ef44",
   "metadata": {},
   "outputs": [],
   "source": [
    "def iter_prox(signals, reg_power, reg_cst, wavename):\n",
    "    new_signals = np.zeros_like(signals)\n",
    "    for i,sign in enumerate(signals):\n",
    "        new_signals[i,:] = get_prox_denoise(sign, wavelet=wavename, reg_power = reg_power, reg_cst = reg_cst)\n",
    "    return new_signals"
   ]
  },
  {
   "cell_type": "code",
   "execution_count": null,
   "id": "cb15f6d2-33ca-42ea-b2f3-e2b0291bccaf",
   "metadata": {},
   "outputs": [],
   "source": [
    "plot_all_st(signals0)\n",
    "plot_all_st(iter_prox(signals0, 4/3, 0.65, \"sym4\"))"
   ]
  },
  {
   "cell_type": "code",
   "execution_count": null,
   "id": "3f2da473-df49-4a75-b814-b057395c65a7",
   "metadata": {},
   "outputs": [],
   "source": [
    "plot_all_st(signals0)\n",
    "plot_all_st(iter_prox(signals0, 4/3, 0.65, \"coif3\"))"
   ]
  },
  {
   "cell_type": "code",
   "execution_count": null,
   "id": "b56940af-1c51-47db-b49a-9c6849b8a4ba",
   "metadata": {},
   "outputs": [],
   "source": [
    "plot_all_st(signals0)\n",
    "plot_all_st(iter_prox(signals0, 1, 0.5, \"sym4\"))"
   ]
  },
  {
   "cell_type": "code",
   "execution_count": null,
   "id": "3267618e-d567-4570-8e78-f820ba7cdea6",
   "metadata": {},
   "outputs": [],
   "source": [
    "fig = go.Figure(\n",
    "        layout=go.Layout(\n",
    "            height=600, \n",
    "            width=800, \n",
    "            template = \"plotly_dark\", \n",
    "            title = f\"Power proximal using Daubechy\"\n",
    "    ))\n",
    "\n",
    "pal = my_pal(45)\n",
    "\n",
    "k = 0\n",
    "for wavename in [\"coif2\",\"coif3\", \"sym4\"]:\n",
    "    for reg_power in [1.0, 4/3, 3/2]:\n",
    "        for reg_cst in np.linspace(2e-1, 8e-1, 5):\n",
    "            new_sign = get_prox_denoise(signal, wavelet=wavename, reg_power = reg_power, reg_cst = reg_cst)\n",
    "            add_fig(fig, new_sign, pal[k] ,f\"{wavename} power {np.round(reg_power,2)} reg_cst = {np.round(reg_cst,2)}\")\n",
    "            #plot_scalogram(new_sign, scales, waveletname = 'cmor', title = f\"{wavename} power {np.round(reg_power,2)} reg_cst = {np.round(reg_cst,2)}\")\n",
    "            #plot_scalogram_freq(new_sign, scales, waveletname = 'cmor', title = f\"{wavename} power {np.round(reg_power,2)} reg_cst = {np.round(reg_cst,2)}\")\n",
    "            k+=1\n",
    "fig.show()"
   ]
  },
  {
   "cell_type": "markdown",
   "id": "ada33460-664b-41fe-9777-6c6b6d72e5ea",
   "metadata": {},
   "source": [
    "Il ne faut pas prendre une ondellette trop régulière au risque d'éliminer les pics.\n",
    "Plus la puissance augmente, moins le denoising est forts. On remarque que cette approche est moins sensible que le filtrage par seuil."
   ]
  },
  {
   "cell_type": "markdown",
   "id": "c04e2c35-aaf0-4174-bb80-84379e806b6a",
   "metadata": {},
   "source": [
    "## Test classifier"
   ]
  },
  {
   "cell_type": "code",
   "execution_count": null,
   "id": "0e065ac9-9893-45a8-824d-504ec53a2066",
   "metadata": {},
   "outputs": [],
   "source": [
    "from collections import Counter\n",
    "import scipy\n",
    "\n",
    "def calculate_entropy(list_values):\n",
    "    counter_values = Counter(list_values).most_common()\n",
    "    probabilities = [elem[1]/len(list_values) for elem in counter_values]\n",
    "    entropy=scipy.stats.entropy(probabilities)\n",
    "    return entropy\n",
    "\n",
    " \n",
    "def calculate_statistics(list_values):\n",
    "    n5 = np.nanpercentile(list_values, 5)\n",
    "    n25 = np.nanpercentile(list_values, 25)\n",
    "    n75 = np.nanpercentile(list_values, 75)\n",
    "    n95 = np.nanpercentile(list_values, 95)\n",
    "    median = np.nanpercentile(list_values, 50)\n",
    "    mean = np.nanmean(list_values)\n",
    "    std = np.nanstd(list_values)\n",
    "    var = np.nanvar(list_values)\n",
    "    rms = np.nanmean(np.sqrt(list_values**2))\n",
    "    return [n5, n25, n75, n95, median, mean, std, var, rms]\n",
    " \n",
    "# def calculate_crossings(list_values):\n",
    "#     zero_crossing_indices = np.nonzero(np.diff(np.array(list_values), 0))[0]\n",
    "#     no_zero_crossings = len(zero_crossing_indices)\n",
    "#     mean_crossing_indices = np.nonzero(np.diff(np.array(list_values) , np.nanmean(list_values)))[0]\n",
    "#     no_mean_crossings = len(mean_crossing_indices)\n",
    "#     return [no_zero_crossings, no_mean_crossings]\n",
    " \n",
    "def get_features(list_values):\n",
    "    print(list_values.shape[0])\n",
    "    entropy = calculate_entropy(list_values)\n",
    "    # crossings = calculate_crossings(list_values)\n",
    "    statistics = calculate_statistics(list_values)\n",
    "    # return [entropy] + crossings + statistics\n",
    "    return [entropy] +  statistics\n",
    "\n",
    "def get_ecg_features(ecg_data, ecg_labels, waveletname):\n",
    "    list_features = []\n",
    "    list_unique_labels = list(set(ecg_labels))\n",
    "    list_labels = [list_unique_labels.index(elem) for elem in ecg_labels]\n",
    "    for sig in ecg_data:\n",
    "        list_coeff = pywt.wavedec(sig, waveletname)\n",
    "        features = []\n",
    "        for coeff in list_coeff:\n",
    "            features += get_features(np.array(coeff))\n",
    "        list_features.append(features)\n",
    "    return list_features, list_labels"
   ]
  },
  {
   "cell_type": "code",
   "execution_count": null,
   "id": "df506cee-33b5-45bb-8edb-60fe77432a9c",
   "metadata": {},
   "outputs": [],
   "source": [
    "patient_ids = get_npatients_by_diag(df, npatients=100)\n",
    "signals, patients = load_ecg_from_clean_data(df, root_path, patient_ids = patient_ids.tolist())\n",
    "signals0 = np.array([sig[:,0] for sig in signals])"
   ]
  },
  {
   "cell_type": "code",
   "execution_count": null,
   "id": "6db70e30-1569-444c-ad4f-6e3637bd9d49",
   "metadata": {},
   "outputs": [],
   "source": [
    "signals0.shape"
   ]
  },
  {
   "cell_type": "code",
   "execution_count": null,
   "id": "ae1e08bd-d011-4adc-b727-81beb33b9701",
   "metadata": {},
   "outputs": [],
   "source": [
    "labels = df.loc[df[\"patient_id\"].isin(patients),\"diag\"]\n",
    "list_features, list_labels = get_ecg_features(signals0, labels, \"db5\")"
   ]
  },
  {
   "cell_type": "code",
   "execution_count": null,
   "id": "1bc0e2d4-d524-42d3-b554-bc73ad2a5319",
   "metadata": {},
   "outputs": [],
   "source": [
    "print(len(list_features), len(list_labels))"
   ]
  },
  {
   "cell_type": "code",
   "execution_count": null,
   "id": "96b65444-e9fc-43d1-8a49-0e0bb01c8b90",
   "metadata": {},
   "outputs": [],
   "source": [
    "from sklearn.ensemble import GradientBoostingClassifier\n",
    "from sklearn.model_selection import train_test_split\n",
    "X_train, X_test, y_train, y_test = train_test_split( list_features, list_labels, test_size=0.33, random_state=42)\n"
   ]
  },
  {
   "cell_type": "code",
   "execution_count": null,
   "id": "5b4867f1-9656-4e47-8f5b-6ae1eead646c",
   "metadata": {},
   "outputs": [],
   "source": [
    "cls = GradientBoostingClassifier(n_estimators=20)\n",
    "cls.fit(X_train, y_train)\n",
    "train_score = cls.score(X_train, y_train)\n",
    "test_score = cls.score(X_test, y_test)\n",
    "print(f\"Train Score for the ECG dataset is about: {np.round(train_score,2)}\")\n",
    "print(f\"Test Score for the ECG dataset is about: {np.round(test_score,2)}\")\n"
   ]
  },
  {
   "cell_type": "code",
   "execution_count": null,
   "id": "557f259d-d768-498c-9faf-596e825859df",
   "metadata": {},
   "outputs": [],
   "source": []
  }
 ],
 "metadata": {
  "kernelspec": {
   "display_name": "Python 3 (ipykernel)",
   "language": "python",
   "name": "python3"
  },
  "language_info": {
   "codemirror_mode": {
    "name": "ipython",
    "version": 3
   },
   "file_extension": ".py",
   "mimetype": "text/x-python",
   "name": "python",
   "nbconvert_exporter": "python",
   "pygments_lexer": "ipython3",
   "version": "3.9.18"
  }
 },
 "nbformat": 4,
 "nbformat_minor": 5
}
