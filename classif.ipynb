{
 "cells": [
  {
   "cell_type": "code",
   "execution_count": 2,
   "metadata": {},
   "outputs": [],
   "source": [
    "import pandas as pd \n",
    "d = pd.read_csv('data/raw_data/csv_data/valid_meta.csv')"
   ]
  },
  {
   "cell_type": "code",
   "execution_count": 2,
   "metadata": {},
   "outputs": [],
   "source": [
    "#from src.classification import classification_model\n",
    "import torch \n",
    "from src.TCL import tcl, MLP, Maxout\n",
    "\n",
    "\n",
    "datasetECG_train = torch.load('data/dataset_data/dataset_1/dataset_train.pth')\n",
    "datasetECG_val = torch.load('data/dataset_data/dataset_1/dataset_val.pth')\n",
    "datasetECG_test = torch.load('data/dataset_data/dataset_1/dataset_test.pth')\n",
    "\n"
   ]
  },
  {
   "cell_type": "code",
   "execution_count": 3,
   "metadata": {},
   "outputs": [],
   "source": [
    "model = torch.load('models/TCL/TCL_1/model.pth',map_location=torch.device('cpu'))"
   ]
  },
  {
   "cell_type": "code",
   "execution_count": 4,
   "metadata": {},
   "outputs": [],
   "source": [
    "output_dim_model = 3\n",
    "name_model = 'TCL_fake'\n",
    "path_meta_data_train = 'data/raw_data/csv_data/train_meta.csv'\n",
    "path_meta_data_val = 'data/raw_data/csv_data/valid_meta.csv'\n",
    "path_meta_data_test = 'data/raw_data/csv_data/test_meta.csv'\n",
    "sliding_window = 10\n",
    "stride = 2\n",
    "param_grid_svm =  {'svm__C': [0.1, 1, 10],\n",
    "             'svm__kernel': ['linear', 'rbf', 'poly'], \n",
    "            'svm__gamma': ['scale', 'auto']}"
   ]
  },
  {
   "cell_type": "code",
   "execution_count": 22,
   "metadata": {},
   "outputs": [],
   "source": [
    "from src.feature_extraction import *\n",
    "\n",
    "import json\n",
    "import joblib\n",
    "\n",
    "import pandas as pd\n",
    "import numpy as np\n",
    "\n",
    "from sklearn.metrics import accuracy_score, f1_score, recall_score, precision_score, roc_auc_score\n",
    "from sklearn.pipeline import Pipeline\n",
    "from sklearn.preprocessing import StandardScaler\n",
    "from sklearn.svm import SVC\n",
    "from sklearn.model_selection import PredefinedSplit, GridSearchCV\n",
    "\n",
    "\n",
    "def gridsearch_SVM_pipeline(X_train,y_train, X_val, y_val, param_grid, scoring='accuracy', verbose=4):\n",
    "    # Create an SVM pipeline\n",
    "    svm_pipeline = Pipeline([\n",
    "        ('scaler', StandardScaler()),\n",
    "        ('svm', SVC())\n",
    "    ])\n",
    "    split_index = [-1]*len(X_train) + [0]*len(X_val)\n",
    "    X = np.concatenate((X_train, X_val), axis=0)\n",
    "    y = np.concatenate((y_train, y_val), axis=0)\n",
    "    pds = PredefinedSplit(test_fold = split_index)\n",
    "    # Create a GridSearchCV object\n",
    "    grid_search_model = GridSearchCV(svm_pipeline, param_grid, cv=pds, scoring=scoring, verbose=verbose)\n",
    "    grid_search_model.fit(X,y)\n",
    "    results_gs = grid_search_model.cv_results_\n",
    "    best_params = grid_search_model.best_params_\n",
    "    best_model = grid_search_model.best_estimator_\n",
    "    return(results_gs, best_params, best_model)\n",
    "\n",
    "\n",
    "def get_metrics(y_true, y_pred, metrics_to_compute=['accuracy', 'f1_score', 'recall', 'precision']):\n",
    "    \"\"\"\n",
    "    Calculate specified classification metrics.\n",
    "\n",
    "    Parameters:\n",
    "    - y_true: true labels\n",
    "    - y_pred: predicted labels\n",
    "    - metrics_to_compute: list of metrics to calculate\n",
    "    \n",
    "    Returns:\n",
    "    - metrics_dict: a dictionary containing calculated metrics\n",
    "    \"\"\"\n",
    "    valid_metrics = ['accuracy', 'f1_score', 'recall', 'precision', 'roc_auc']\n",
    "    \n",
    "    assert all(metric in valid_metrics for metric in metrics_to_compute), \"Invalid metric name in metrics_to_compute.\"\n",
    "\n",
    "    metrics_dict = {}\n",
    "\n",
    "    if 'accuracy' in metrics_to_compute:\n",
    "        metrics_dict['accuracy'] = accuracy_score(y_true, y_pred)\n",
    "    if 'f1_score' in metrics_to_compute:\n",
    "        metrics_dict['f1_score'] = f1_score(y_true, y_pred)\n",
    "    if 'recall' in metrics_to_compute:\n",
    "        metrics_dict['recall'] = recall_score(y_true, y_pred)\n",
    "    if 'precision' in metrics_to_compute:\n",
    "        metrics_dict['precision'] = precision_score(y_true, y_pred)\n",
    "    if 'roc_auc' in metrics_to_compute:\n",
    "        metrics_dict['roc_auc'] = roc_auc_score(y_true, y_pred)\n",
    "\n",
    "    return metrics_dict\n",
    "\n",
    "\n",
    "\n",
    "def get_results(classif_model, X_train, y_train, X_test, y_test, metrics_to_compute=['accuracy', 'f1_score','recall','precision']):\n",
    "    y_predict_train = classif_model(X_train)\n",
    "    y_predict_test = classif_model(X_test)\n",
    "    metrics_train = get_metrics(y_true=y_train, y_pred=y_predict_train, metrics_to_compute=metrics_to_compute)\n",
    "    metrics_test = get_metrics(y_true=y_test,y_pred= y_predict_test, metrics_to_compute=metrics_to_compute)\n",
    "    res = {'train' : metrics_train, 'test' : metrics_test}\n",
    "    return res\n",
    "import numpy as np\n",
    "from concurrent.futures import ThreadPoolExecutor\n",
    "from torch.utils.data import DataLoader\n",
    "\n",
    "def process_batch(batch, model, output_dim, sliding_window, stride):\n",
    "    batch_x, batch_y, batch_z = batch\n",
    "    output_patient_logit, features_patient = model(batch_x.float(), patient_id=batch_z)\n",
    "    patient_id = batch_z.unique()\n",
    "    assert patient_id.shape[0] == 1, 'Multiple patients in batch - resize batch size'\n",
    "    features_patient_avg = compute_average_signal(features_patient.T, w=sliding_window, s=stride)\n",
    "    return patient_id[0], features_patient_avg.detach().numpy()\n",
    "\n",
    "def get_features_dataset_parallel(model, output_dim, dataset, sliding_window, stride, T=1000):\n",
    "    batch_size = T\n",
    "    loader = DataLoader(dataset, batch_size=batch_size, shuffle=False)\n",
    "    n_patient_dataset = len(loader)\n",
    "\n",
    "    label_patients = np.zeros(n_patient_dataset)\n",
    "    features_patients = np.zeros((n_patient_dataset, output_dim, get_number_windows(T, sliding_window, stride)))\n",
    "\n",
    "    with ThreadPoolExecutor() as executor:\n",
    "        batches = list(loader)\n",
    "        results = list(executor.map(lambda batch: process_batch(batch, model, output_dim, sliding_window, stride), batches))\n",
    "\n",
    "    for i, (patient_id, features_patient_avg) in enumerate(sorted(results, key=lambda x: x[0])):\n",
    "        label_patients[i] = patient_id\n",
    "        features_patients[i, :, :] = features_patient_avg\n",
    "\n",
    "    return label_patients, features_patients\n",
    "\n",
    "def classification_model(model, output_dim_model, \n",
    "                         sliding_window, stride,\n",
    "                         datasetECG_train, datasetECG_val, datasetECG_test,\n",
    "                         param_grid_svm, \n",
    "                         path_meta_data_train, path_meta_data_val, path_meta_data_test,\n",
    "                         T = 1000,\n",
    "                         metrics_to_compute = ['accuracy', 'f1_score','recall','precision'],\n",
    "                         list_columns_classif = ['NORM'],\n",
    "                         path_save_models= 'models/classif/'):\n",
    "    df_train_meta = pd.read_csv(path_meta_data_train)\n",
    "    df_val_meta = pd.read_csv(path_meta_data_val)\n",
    "    df_test_meta = pd.read_csv(path_meta_data_test)\n",
    "    print('everythind is read')\n",
    "    id_patient_train, X_train = get_features_dataset_parallel(model, output_dim_model, datasetECG_train, sliding_window, stride, T=T)\n",
    "    print('feature train')\n",
    "    id_patient_val, X_val = get_features_dataset_parallel(model, output_dim_model, datasetECG_val, sliding_window, stride, T=T)\n",
    "    print('feature_val')\n",
    "    id_patient_test, X_test = get_features_dataset_parallel(model, output_dim_model, datasetECG_test, sliding_window, stride, T=T)\n",
    "    print('feature_test')\n",
    "    labels_train_dict = get_label_from_id_patient(id_patient_train, df_train_meta, list_columns_classif)\n",
    "    print('label_train')\n",
    "    labels_val_dict = get_label_from_id_patient(id_patient_val, df_val_meta, list_columns_classif)\n",
    "    print('label_val')\n",
    "    labels_test_dict = get_label_from_id_patient(id_patient_test, df_test_meta, list_columns_classif)\n",
    "    print('label_test')\n",
    "    X_train = X_train.reshape(X_train.shape[0], -1)\n",
    "    X_val = X_val.reshape(X_val.shape[0], -1)\n",
    "    X_test = X_test.reshape(X_test.shape[0], -1)\n",
    "    X_big_train = np.concatenate([X_train,X_val], axis=0)\n",
    "    all_res = {}\n",
    "    for col in list_columns_classif :\n",
    "        print(col)\n",
    "        path_save_classif = path_save_models + col + '/'\n",
    "        y_train = labels_train_dict[col]\n",
    "        y_train = y_train = y_train.ravel()\n",
    "        y_val = labels_val_dict[col]\n",
    "        y_val = y_val.ravel()\n",
    "        y_test = labels_test_dict[col]\n",
    "        y_test = y_test.ravel()\n",
    "        y_big_train = np.concatenate([y_train,y_val], axis=0)\n",
    "        results_gs, best_params, best_model = gridsearch_SVM_pipeline(X_train,y_train, X_val, y_val, param_grid_svm, scoring='accuracy', verbose=2)\n",
    "        results_gs.to_csv(path_save_classif+'results_gs_SVM.csv')\n",
    "        with open(path_save_classif+'best_params.json','w') as f:\n",
    "            json.dump(best_params,f)\n",
    "        res = get_results(classif_model= best_model,\n",
    "                          X_train = X_big_train,\n",
    "                          y_train= y_big_train,\n",
    "                          X_test= X_test, \n",
    "                          y_test= y_test,\n",
    "                          metrics_to_compute= metrics_to_compute)\n",
    "        with open(path_save_classif+'res_best_model.json','w') as f:\n",
    "            json.dump(res,f)\n",
    "        model_filename = path_save_classif+'best_model.joblib'\n",
    "        joblib.dump(best_model, model_filename)\n",
    "        all_res[col] = res\n",
    "    return(all_res)"
   ]
  },
  {
   "cell_type": "code",
   "execution_count": 23,
   "metadata": {},
   "outputs": [
    {
     "name": "stdout",
     "output_type": "stream",
     "text": [
      "everythind is read\n",
      "feature train\n",
      "feature_val\n",
      "feature_test\n",
      "label_train\n",
      "label_val\n",
      "label_test\n",
      "NORM\n",
      "(19634, 1488)\n",
      "(17441, 1488)\n",
      "Fitting 1 folds for each of 18 candidates, totalling 18 fits\n"
     ]
    },
    {
     "name": "stderr",
     "output_type": "stream",
     "text": [
      "/Users/zinebbentires/anaconda3/lib/python3.11/site-packages/sklearn/utils/validation.py:1184: DataConversionWarning: A column-vector y was passed when a 1d array was expected. Please change the shape of y to (n_samples, ), for example using ravel().\n",
      "  y = column_or_1d(y, warn=True)\n"
     ]
    },
    {
     "name": "stdout",
     "output_type": "stream",
     "text": [
      "[CV] END ...svm__C=0.1, svm__gamma=scale, svm__kernel=linear; total time=36.9min\n"
     ]
    },
    {
     "name": "stderr",
     "output_type": "stream",
     "text": [
      "/Users/zinebbentires/anaconda3/lib/python3.11/site-packages/sklearn/utils/validation.py:1184: DataConversionWarning: A column-vector y was passed when a 1d array was expected. Please change the shape of y to (n_samples, ), for example using ravel().\n",
      "  y = column_or_1d(y, warn=True)\n"
     ]
    },
    {
     "name": "stdout",
     "output_type": "stream",
     "text": [
      "[CV] END ......svm__C=0.1, svm__gamma=scale, svm__kernel=rbf; total time= 5.5min\n"
     ]
    },
    {
     "name": "stderr",
     "output_type": "stream",
     "text": [
      "/Users/zinebbentires/anaconda3/lib/python3.11/site-packages/sklearn/utils/validation.py:1184: DataConversionWarning: A column-vector y was passed when a 1d array was expected. Please change the shape of y to (n_samples, ), for example using ravel().\n",
      "  y = column_or_1d(y, warn=True)\n"
     ]
    },
    {
     "name": "stdout",
     "output_type": "stream",
     "text": [
      "[CV] END .....svm__C=0.1, svm__gamma=scale, svm__kernel=poly; total time= 5.6min\n"
     ]
    },
    {
     "name": "stderr",
     "output_type": "stream",
     "text": [
      "/Users/zinebbentires/anaconda3/lib/python3.11/site-packages/sklearn/utils/validation.py:1184: DataConversionWarning: A column-vector y was passed when a 1d array was expected. Please change the shape of y to (n_samples, ), for example using ravel().\n",
      "  y = column_or_1d(y, warn=True)\n"
     ]
    },
    {
     "name": "stdout",
     "output_type": "stream",
     "text": [
      "[CV] END ....svm__C=0.1, svm__gamma=auto, svm__kernel=linear; total time=32.6min\n"
     ]
    },
    {
     "name": "stderr",
     "output_type": "stream",
     "text": [
      "/Users/zinebbentires/anaconda3/lib/python3.11/site-packages/sklearn/utils/validation.py:1184: DataConversionWarning: A column-vector y was passed when a 1d array was expected. Please change the shape of y to (n_samples, ), for example using ravel().\n",
      "  y = column_or_1d(y, warn=True)\n"
     ]
    },
    {
     "name": "stdout",
     "output_type": "stream",
     "text": [
      "[CV] END .......svm__C=0.1, svm__gamma=auto, svm__kernel=rbf; total time= 4.6min\n"
     ]
    },
    {
     "name": "stderr",
     "output_type": "stream",
     "text": [
      "/Users/zinebbentires/anaconda3/lib/python3.11/site-packages/sklearn/utils/validation.py:1184: DataConversionWarning: A column-vector y was passed when a 1d array was expected. Please change the shape of y to (n_samples, ), for example using ravel().\n",
      "  y = column_or_1d(y, warn=True)\n"
     ]
    },
    {
     "name": "stdout",
     "output_type": "stream",
     "text": [
      "[CV] END ......svm__C=0.1, svm__gamma=auto, svm__kernel=poly; total time= 4.6min\n"
     ]
    },
    {
     "name": "stderr",
     "output_type": "stream",
     "text": [
      "/Users/zinebbentires/anaconda3/lib/python3.11/site-packages/sklearn/utils/validation.py:1184: DataConversionWarning: A column-vector y was passed when a 1d array was expected. Please change the shape of y to (n_samples, ), for example using ravel().\n",
      "  y = column_or_1d(y, warn=True)\n"
     ]
    },
    {
     "name": "stdout",
     "output_type": "stream",
     "text": [
      "[CV] END ....svm__C=1, svm__gamma=scale, svm__kernel=linear; total time=244.1min\n"
     ]
    },
    {
     "name": "stderr",
     "output_type": "stream",
     "text": [
      "/Users/zinebbentires/anaconda3/lib/python3.11/site-packages/sklearn/utils/validation.py:1184: DataConversionWarning: A column-vector y was passed when a 1d array was expected. Please change the shape of y to (n_samples, ), for example using ravel().\n",
      "  y = column_or_1d(y, warn=True)\n"
     ]
    },
    {
     "name": "stdout",
     "output_type": "stream",
     "text": [
      "[CV] END ........svm__C=1, svm__gamma=scale, svm__kernel=rbf; total time= 4.6min\n"
     ]
    },
    {
     "name": "stderr",
     "output_type": "stream",
     "text": [
      "/Users/zinebbentires/anaconda3/lib/python3.11/site-packages/sklearn/utils/validation.py:1184: DataConversionWarning: A column-vector y was passed when a 1d array was expected. Please change the shape of y to (n_samples, ), for example using ravel().\n",
      "  y = column_or_1d(y, warn=True)\n"
     ]
    },
    {
     "name": "stdout",
     "output_type": "stream",
     "text": [
      "[CV] END .......svm__C=1, svm__gamma=scale, svm__kernel=poly; total time= 4.7min\n"
     ]
    },
    {
     "name": "stderr",
     "output_type": "stream",
     "text": [
      "/Users/zinebbentires/anaconda3/lib/python3.11/site-packages/sklearn/utils/validation.py:1184: DataConversionWarning: A column-vector y was passed when a 1d array was expected. Please change the shape of y to (n_samples, ), for example using ravel().\n",
      "  y = column_or_1d(y, warn=True)\n"
     ]
    },
    {
     "name": "stdout",
     "output_type": "stream",
     "text": [
      "[CV] END .....svm__C=1, svm__gamma=auto, svm__kernel=linear; total time=243.7min\n"
     ]
    },
    {
     "name": "stderr",
     "output_type": "stream",
     "text": [
      "/Users/zinebbentires/anaconda3/lib/python3.11/site-packages/sklearn/utils/validation.py:1184: DataConversionWarning: A column-vector y was passed when a 1d array was expected. Please change the shape of y to (n_samples, ), for example using ravel().\n",
      "  y = column_or_1d(y, warn=True)\n"
     ]
    },
    {
     "name": "stdout",
     "output_type": "stream",
     "text": [
      "[CV] END .........svm__C=1, svm__gamma=auto, svm__kernel=rbf; total time= 4.6min\n"
     ]
    },
    {
     "name": "stderr",
     "output_type": "stream",
     "text": [
      "/Users/zinebbentires/anaconda3/lib/python3.11/site-packages/sklearn/utils/validation.py:1184: DataConversionWarning: A column-vector y was passed when a 1d array was expected. Please change the shape of y to (n_samples, ), for example using ravel().\n",
      "  y = column_or_1d(y, warn=True)\n"
     ]
    },
    {
     "name": "stdout",
     "output_type": "stream",
     "text": [
      "[CV] END ........svm__C=1, svm__gamma=auto, svm__kernel=poly; total time= 4.8min\n"
     ]
    },
    {
     "name": "stderr",
     "output_type": "stream",
     "text": [
      "/Users/zinebbentires/anaconda3/lib/python3.11/site-packages/sklearn/utils/validation.py:1184: DataConversionWarning: A column-vector y was passed when a 1d array was expected. Please change the shape of y to (n_samples, ), for example using ravel().\n",
      "  y = column_or_1d(y, warn=True)\n"
     ]
    }
   ],
   "source": [
    "\n",
    "classification_model(model, output_dim_model, \n",
    "                         sliding_window, stride,\n",
    "                         datasetECG_train, datasetECG_val, datasetECG_test,\n",
    "                         param_grid_svm, \n",
    "                         path_meta_data_train, path_meta_data_val, path_meta_data_test,\n",
    "                         T = 1000,\n",
    "                         metrics_to_compute = ['accuracy', 'f1_score','recall','precision'],\n",
    "                         list_columns_classif = ['NORM'],\n",
    "                         path_save_models= 'models/classif/')"
   ]
  },
  {
   "cell_type": "code",
   "execution_count": 5,
   "metadata": {},
   "outputs": [],
   "source": [
    "import numpy as np\n",
    "def get_label_from_id_patient(id_patient, df_meta, list_columns):\n",
    "    df_ = df_meta.sort_values(by=['ecg_id'], ascending = True)\n",
    "    id_in_meta = df_['ecg_id'].values\n",
    "    nb_label_per_patient = df_['ecg_id'].value_counts().values\n",
    "    unique_values = len(np.unique(nb_label_per_patient))\n",
    "    assert unique_values == 1 , 'Error: some patients have multi labels'\n",
    "    assert np.isin(id_patient, id_in_meta).all(), 'Error : some patients are not included in dataframe provided'\n",
    "    d = {}\n",
    "    df_subset = df_.loc[df_['ecg_id'].isin(id_patient),:]\n",
    "    for col in list_columns:\n",
    "        d[col] = df_subset[col].values\n",
    "    return(d)\n",
    "\n",
    "a =get_label_from_id_patient([10,20,8], d, ['NORM'])"
   ]
  },
  {
   "cell_type": "code",
   "execution_count": 6,
   "metadata": {},
   "outputs": [
    {
     "data": {
      "text/plain": [
       "array([0, 1, 0])"
      ]
     },
     "execution_count": 6,
     "metadata": {},
     "output_type": "execute_result"
    }
   ],
   "source": [
    "a['NORM']"
   ]
  },
  {
   "cell_type": "code",
   "execution_count": null,
   "metadata": {},
   "outputs": [],
   "source": []
  }
 ],
 "metadata": {
  "kernelspec": {
   "display_name": "base",
   "language": "python",
   "name": "python3"
  },
  "language_info": {
   "codemirror_mode": {
    "name": "ipython",
    "version": 3
   },
   "file_extension": ".py",
   "mimetype": "text/x-python",
   "name": "python",
   "nbconvert_exporter": "python",
   "pygments_lexer": "ipython3",
   "version": "3.11.5"
  }
 },
 "nbformat": 4,
 "nbformat_minor": 2
}
